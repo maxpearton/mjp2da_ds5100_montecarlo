{
 "cells": [
  {
   "cell_type": "markdown",
   "metadata": {},
   "source": [
    "# Final Project Report\n",
    "\n",
    "* Class: DS 5100\n",
    "* Student Name: Max Pearton\n",
    "* Student Net ID: mjp2da\n",
    "* This URL: https://github.com/maxpearton/mjp2da_ds5100_montecarlo/blob/main/montecarlo_demo%20.ipynb"
   ]
  },
  {
   "cell_type": "markdown",
   "metadata": {},
   "source": [
    "# Instructions\n",
    "\n",
    "Follow the instructions in the [Final Project](https://ontoligent.github.io/DS5100-2023-07-R/notebooks/M00_FinalProject/FinalProjectInstructions.html) isntructions and put your work in this notebook.\n",
    "\n",
    "Total points for each subsection under **Deliverables** and **Scenarios** are given in parentheses.\n",
    "\n",
    "Breakdowns of points within subsections are specified within subsection instructions as bulleted lists.\n",
    "\n",
    "This project is worth **50 points**."
   ]
  },
  {
   "cell_type": "markdown",
   "metadata": {},
   "source": [
    "# Deliverables"
   ]
  },
  {
   "cell_type": "markdown",
   "metadata": {},
   "source": [
    "## The Monte Carlo Module (10)\n",
    "\n",
    "- URL included, appropriately named (1).\n",
    "- Includes all three specified classes (3).\n",
    "- Includes at least all 12 specified methods (6; .5 each)."
   ]
  },
  {
   "cell_type": "markdown",
   "metadata": {},
   "source": [
    "Put the URL to your GitHub repo here.\n",
    "\n",
    "Repo URL:https://github.com/maxpearton/mjp2da_ds5100_montecarlo/tree/main"
   ]
  },
  {
   "cell_type": "markdown",
   "metadata": {},
   "source": [
    "Paste a copyy of your module here.\n",
    "\n",
    "NOTE: Paste as text, not as code. Use triple backticks to wrap your code blocks."
   ]
  },
  {
   "cell_type": "code",
   "execution_count": 7,
   "metadata": {},
   "outputs": [],
   "source": [
    "\"\"\"\n",
    " # montecarlo/montecarlo.py\n",
    "import numpy as np\n",
    "import pandas as pd\n",
    "from typing import List\n",
    "\n",
    "class Die:\n",
    "     \n",
    "    Die class representing a single die with customizable faces and weights.\n",
    "\n",
    "    Attributes:\n",
    "    - faces (numpy.ndarray): An array of faces on the die.\n",
    "    - weights (numpy.ndarray): An array of weights corresponding to the faces.\n",
    "\n",
    "    Methods:\n",
    "    - __init__(faces, weights=None): Initializes a Die object with faces and weights.\n",
    "    - _validate_faces_and_weights(): Validates that faces are distinct and weights are numeric.\n",
    "    - _validate_face(face): Validates a single face.\n",
    "    - _validate_weight(weight): Validates a single weight.\n",
    "    - change_weight(face: str, weight: float): Changes the weight of a specific face.\n",
    "    - roll(times: int = 1) -> List[str]: Rolls the die a specified number of times.\n",
    "    - show_state() -> pd.DataFrame: Returns a copy of the die's current state.\n",
    "    \n",
    "    def __init__(self, faces, weights=None):\n",
    "        self.faces = np.array(faces)\n",
    "        self.weights = np.array(weights) if weights is not None else np.ones_like(self.faces, dtype=float)\n",
    "        self._validate_faces_and_weights()\n",
    "        self._die_state = pd.DataFrame({'weights': self.weights}, index=self.faces)\n",
    "         \n",
    "        Initializes a Die object with faces and weights.\n",
    "\n",
    "        Parameters:\n",
    "        - faces: An array representing distinct faces on the die.\n",
    "        - weights: An array representing weights corresponding to the faces.\n",
    "                   If None, all weights are set to 1.0.\n",
    "        \n",
    "\n",
    "    def _validate_faces_and_weights(self):\n",
    "        if len(set(self.faces)) != len(self.faces):\n",
    "            raise ValueError(\"Faces must be distinct.\")\n",
    "            \n",
    "        Validates that faces are distinct and weights are numeric.\n",
    "        \n",
    "        if not np.issubdtype(self.weights.dtype, np.number):\n",
    "            raise TypeError(\"Weights must be numeric.\")\n",
    "\n",
    "    def _validate_face(self, face):\n",
    "        if face not in self.faces:\n",
    "            raise IndexError(f\"Invalid face '{face}'.\")\n",
    "        \n",
    "        Validates a single face.\n",
    "\n",
    "        Parameters:\n",
    "        - face: The face to be validated.\n",
    "        \n",
    "\n",
    "    def _validate_weight(self, weight):\n",
    "        if not isinstance(weight, (int, float)) or np.isnan(weight):\n",
    "            raise TypeError(\"Weight must be a numeric value.\")\n",
    "        \n",
    "        Validates a single weight.\n",
    "\n",
    "        Parameters:\n",
    "        - weight: The weight to be validated.\n",
    "        \n",
    "            \n",
    "    def change_weight(self, face: str, weight: float):\n",
    "        if face not in self.faces:\n",
    "            raise IndexError(\"Invalid face value.\")\n",
    "        if not np.issubdtype(type(weight), np.number):\n",
    "            raise TypeError(\"Weight must be numeric.\")\n",
    "        self.weights[self.faces == face] = weight\n",
    "        \n",
    "        Changes the weight of a specific face on the die.\n",
    "\n",
    "        Parameters:\n",
    "        - face: The face for which the weight will be changed.\n",
    "        - weight: The new weight value for the specified face.\n",
    "        \n",
    "\n",
    "    def roll(self, times: int = 1) -> List[str]:\n",
    "        outcomes = np.random.choice(self.faces, times, p=self.weights / np.sum(self.weights))\n",
    "        return outcomes.tolist()\n",
    "         \n",
    "        Rolls the die a specified number of times.\n",
    "\n",
    "        Parameters:\n",
    "        - times: The number of times the die will be rolled.\n",
    "\n",
    "        Returns:\n",
    "        A list of outcomes from the rolls.\n",
    "        \n",
    "\n",
    "    def show_state(self) -> pd.DataFrame:\n",
    "        return self._die_state.copy()\n",
    "        \n",
    "        Returns a copy of the die's current state.\n",
    "\n",
    "        Returns:\n",
    "        A DataFrame containing the current weights of each face.\n",
    "        \n",
    "class Game:\n",
    "    \n",
    "    Game class for simulating the rolling of multiple similar dice.\n",
    "\n",
    "    Attributes:\n",
    "    - dice (List[Die]): List of Die objects representing the dice in the game.\n",
    "    - play_results (pd.DataFrame): DataFrame to store results of the most recent play.\n",
    "\n",
    "    Methods:\n",
    "    - __init__(dice: List[Die]): Initializes a Game object with a list of similar dice.\n",
    "    - play(times: int): Rolls all dice a specified number of times and saves results.\n",
    "    - show_results(format: str = 'wide') -> pd.DataFrame: Returns a copy of the play results.\n",
    "    \n",
    "    def __init__(self, dice: List[Die]):\n",
    "        self.dice = dice\n",
    "        self.play_results = None\n",
    "         \n",
    "        Initializes a Game object with a list of similar dice.\n",
    "\n",
    "        Parameters:\n",
    "        - dice: A list of Die objects representing the dice in the game.\n",
    "        \n",
    "            \n",
    "    def play(self, times: int):\n",
    "        outcomes = {f'Die_{i+1}': die.roll(times) for i, die in enumerate(self.dice)}\n",
    "        self.play_results = pd.DataFrame(outcomes)\n",
    "        \n",
    "        Rolls all dice a specified number of times and saves results.\n",
    "\n",
    "        Parameters:\n",
    "        - times: The number of times all dice will be rolled.\n",
    "        \n",
    "        \n",
    "    def show_results(self, format: str = 'wide') -> pd.DataFrame:\n",
    "        if format == 'wide':\n",
    "            return self.play_results.copy()\n",
    "        elif format == 'narrow':\n",
    "            return pd.melt(self.play_results, var_name='Die', value_name='Outcome')\n",
    "        else:\n",
    "            raise ValueError(\"Invalid format. Use 'wide' or 'narrow'.\")\n",
    "          \n",
    "        Returns a copy of the play results in a specified format.\n",
    "\n",
    "        Parameters:\n",
    "        - format: The format of the results. 'wide' or 'narrow'.\n",
    "\n",
    "        Returns:\n",
    "        A DataFrame containing the play results.\n",
    "          \n",
    "\n",
    "class Analyzer:\n",
    "    \n",
    "    Analyzer class for computing statistical properties of a Game.\n",
    "\n",
    "    Attributes:\n",
    "    - game (Game): Game object for analysis.\n",
    "\n",
    "    Methods:\n",
    "    - __init__(game: Game): Initializes an Analyzer object with a Game for analysis.\n",
    "    - jackpot() -> int: Computes the number of jackpots in the game results.\n",
    "    - face_counts_per_roll() -> pd.DataFrame: Computes face counts per roll in wide format.\n",
    "    - combo_count() -> pd.DataFrame: Computes distinct combinations of faces and their counts.\n",
    "    - permutation_count() -> pd.DataFrame: Computes distinct permutations of faces and their counts.\n",
    "    \n",
    "    def __init__(self, game: Game):\n",
    "        self.game = game\n",
    "        \n",
    "        Initializes an Analyzer object with a Game for analysis.\n",
    "\n",
    "        Parameters:\n",
    "        - game: A Game object for analysis.\n",
    "        \n",
    "\n",
    "    def jackpot(self) -> int:\n",
    "        results = self.game.show_results()\n",
    "        print(\"Results:\")\n",
    "        print(results)\n",
    "\n",
    "        jackpot_count = (results.apply(lambda row: row.nunique() == 1, axis=1)).sum()\n",
    "        print(\"Jackpot Count:\")\n",
    "        print(jackpot_count)\n",
    "\n",
    "        return jackpot_count\n",
    "        \n",
    "        Computes the number of jackpots in the game results.\n",
    "\n",
    "        Returns:\n",
    "        The number of jackpots.\n",
    "        \n",
    "\n",
    "    def face_counts_per_roll(self) -> pd.DataFrame:\n",
    "        return self.game.show_results().apply(lambda col: col.value_counts())\n",
    "        \n",
    "        Computes face counts per roll in wide format.\n",
    "\n",
    "        Returns:\n",
    "        A DataFrame containing face counts for each roll.\n",
    "        \n",
    "\n",
    "    def combo_count(self) -> pd.DataFrame:\n",
    "        combinations = self.game.show_results().apply(tuple, axis=1)\n",
    "        return pd.DataFrame(combinations.value_counts(), columns=['Count'])\n",
    "        \n",
    "        Computes distinct combinations of faces and their counts.\n",
    "\n",
    "        Returns:\n",
    "        A DataFrame containing distinct combinations and their counts.\n",
    "        \n",
    "\n",
    "    def permutation_count(self) -> pd.DataFrame:\n",
    "        permutations = self.game.show_results().apply(tuple, axis=1)\n",
    "        return pd.DataFrame(permutations.value_counts(), columns=['Count'])\n",
    "        \n",
    "        Computes distinct permutations of faces and their counts.\n",
    "\n",
    "        Returns:\n",
    "        A DataFrame containing distinct permutations and their counts.\n",
    "        \"\"\"\n"
   ]
  },
  {
   "cell_type": "code",
   "execution_count": null,
   "metadata": {},
   "outputs": [],
   "source": [
    "\"\"\"In my montecarlo.py file, I have docstrings for each method and class, I decided to put evertything in this part of the demo in one set of quotations marks.\"\"\""
   ]
  },
  {
   "cell_type": "markdown",
   "metadata": {},
   "source": [
    "## Unitest Module (2)\n",
    "\n",
    "Paste a copy of your test module below.\n",
    "\n",
    "NOTE: Paste as text, not as code. Use triple backticks to wrap your code blocks.\n",
    "\n",
    "- All methods have at least one test method (1).\n",
    "- Each method employs one of Unittest's Assert methods (1)."
   ]
  },
  {
   "cell_type": "code",
   "execution_count": 2,
   "metadata": {},
   "outputs": [],
   "source": [
    "\"\"\"import unittest\n",
    "import numpy as np\n",
    "import pandas as pd\n",
    "from montecarlo import Die, Game, Analyzer\n",
    "\n",
    "class TestMonteCarlo(unittest.TestCase):\n",
    "    def test_die_initialization(self):\n",
    "        faces = np.array(['A', 'B', 'C'])  # Example distinct faces\n",
    "        die = Die(faces)\n",
    "    \n",
    "    # Check that faces are distinct\n",
    "        self.assertEqual(len(set(die.faces)), len(die.faces))\n",
    "    \n",
    "    # Check that weights are all ones\n",
    "        expected_weights = np.ones_like(die.faces, dtype=float)\n",
    "        np.testing.assert_array_equal(die.weights, expected_weights)\n",
    "\n",
    "    def test_die_validate_face(self):\n",
    "        faces = np.array(['A', 'B', 'C'])\n",
    "        die = Die(faces)\n",
    "\n",
    "        # Valid face should not raise an error\n",
    "        self.assertIsNone(die._validate_face('A'))\n",
    "\n",
    "        # Invalid face should raise an error\n",
    "        with self.assertRaises(IndexError):\n",
    "            die._validate_face('D')\n",
    "\n",
    "    def test_die_validate_weight(self):\n",
    "        faces = np.array(['A', 'B', 'C'])\n",
    "        die = Die(faces)\n",
    "\n",
    "        # Valid weight should not raise an error\n",
    "        self.assertIsNone(die._validate_weight(2.0))\n",
    "\n",
    "        # Invalid weight should raise an error\n",
    "        with self.assertRaises(TypeError):\n",
    "            die._validate_weight('invalid')\n",
    "            \n",
    "    def test_die_validate_faces_and_weights_distinct_faces(self):\n",
    "    # Valid faces (distinct) and weights should not raise an error\n",
    "        faces = np.array(['A', 'B', 'C'])\n",
    "        weights = np.array([0.2, 0.3, 0.5])\n",
    "        die = Die(faces, weights)\n",
    "        self.assertIsNone(die._validate_faces_and_weights())\n",
    "\n",
    "    # Invalid faces (not distinct) should raise an error\n",
    "        faces_not_distinct = np.array(['A', 'B', 'A'])\n",
    "        die_not_distinct = Die(faces_not_distinct, weights)\n",
    "    \n",
    "        try:\n",
    "            die_not_distinct._validate_faces_and_weights()\n",
    "        except ValueError as e:\n",
    "            print(f\"Expected ValueError: {e}\")\n",
    "            return  # Add this line to exit the test after printing the error\n",
    "\n",
    "    # If no error occurred, raise an AssertionError\n",
    "        self.fail(\"Expected ValueError but no error was raised\")\n",
    "\n",
    "    def test_die_validate_faces_and_weights_numeric_weights(self):\n",
    "        # Valid faces and weights (numeric) should not raise an error\n",
    "        faces = np.array(['A', 'B', 'C'])\n",
    "        weights = np.array([0.2, 0.3, 0.5])\n",
    "        die = Die(faces, weights)\n",
    "        self.assertIsNone(die._validate_faces_and_weights())\n",
    "\n",
    "        # Invalid weights (non-numeric) should raise an error\n",
    "        faces = np.array(['A', 'B', 'C'])\n",
    "        weights_non_numeric = np.array(['a', 'b', 'c'])\n",
    "        die_non_numeric = Die(faces, weights_non_numeric)\n",
    "        with self.assertRaises(TypeError):\n",
    "            die_non_numeric._validate_faces_and_weights()\n",
    "            \n",
    "    def test_die_change_weight(self):\n",
    "        faces = np.array(['A', 'B', 'C'])\n",
    "        die = Die(faces)\n",
    "        die.change_weight('A', 2.0)\n",
    "        self.assertEqual(die.weights[0], 2.0)\n",
    "\n",
    "    def test_die_roll(self):\n",
    "        faces = np.array(['A', 'B', 'C'])\n",
    "        die = Die(faces)\n",
    "        outcomes = die.roll(10)\n",
    "        self.assertEqual(len(outcomes), 10)\n",
    "        \n",
    "    def test_die_show_state(self):\n",
    "        faces = np.array(['A', 'B', 'C'])\n",
    "        weights = np.array([0.2, 0.3, 0.5])\n",
    "        die = Die(faces, weights)\n",
    "\n",
    "        # Check if the returned result is a DataFrame\n",
    "        state = die.show_state()\n",
    "        self.assertIsInstance(state, pd.DataFrame)   \n",
    "\n",
    "    def test_game_initialization(self):\n",
    "        die1 = Die(np.array(['A', 'B', 'C']))\n",
    "        die2 = Die(np.array(['X', 'Y', 'Z']))\n",
    "        game = Game([die1, die2])\n",
    "        self.assertEqual(game.dice, [die1, die2])\n",
    "\n",
    "    def test_game_play(self):\n",
    "        die1 = Die(np.array(['A', 'B', 'C']))\n",
    "        die2 = Die(np.array(['X', 'Y', 'Z']))\n",
    "        game = Game([die1, die2])\n",
    "        game.play(5)\n",
    "        self.assertEqual(len(game.show_results()), 5)\n",
    "\n",
    "    def test_game_show_results_wide_format(self):\n",
    "        die1 = Die(np.array(['A', 'B', 'C']))\n",
    "        die2 = Die(np.array(['X', 'Y', 'Z']))\n",
    "        game = Game([die1, die2])\n",
    "        game.play(3)\n",
    "        results = game.show_results(format='wide')\n",
    "\n",
    "        # Check if the returned results is a DataFrame\n",
    "        self.assertIsInstance(results, pd.DataFrame)\n",
    "        \n",
    "    def test_analyzer_initialization(self):\n",
    "        die1 = Die(np.array(['A', 'B', 'C']))\n",
    "        die2 = Die(np.array(['X', 'Y', 'Z']))\n",
    "        game = Game([die1, die2])\n",
    "        analyzer = Analyzer(game)\n",
    "        self.assertEqual(analyzer.game, game)\n",
    "\n",
    "    def test_analyzer_jackpot(self):\n",
    "        die1 = Die(np.array(['A', 'B', 'C']))\n",
    "        die2 = Die(np.array(['X', 'Y', 'Z']))\n",
    "        game = Game([die1, die2])\n",
    "        analyzer = Analyzer(game)\n",
    "\n",
    "    # Call the play method to generate results\n",
    "        game.play(5)\n",
    "\n",
    "    # Now you can safely access show_results\n",
    "        for index, row in analyzer.game.show_results().iterrows():\n",
    "            print(f\"Row {index}: {row.tolist()}\")\n",
    "\n",
    "        self.assertEqual(analyzer.jackpot(), 0)\n",
    "\n",
    "    def test_analyzer_face_counts_per_roll(self):\n",
    "        die1 = Die(np.array(['A', 'B', 'C']))\n",
    "        die2 = Die(np.array(['X', 'Y', 'Z']))\n",
    "        game = Game([die1, die2])\n",
    "        game.play(3)\n",
    "        analyzer = Analyzer(game)\n",
    "        face_counts = analyzer.face_counts_per_roll()\n",
    "        self.assertIsInstance(face_counts, pd.DataFrame)\n",
    "\n",
    "    def test_analyzer_combo_count(self):\n",
    "        die1 = Die(np.array(['A', 'B', 'C']))\n",
    "        die2 = Die(np.array(['X', 'Y', 'Z']))\n",
    "        game = Game([die1, die2])\n",
    "        game.play(3)\n",
    "        analyzer = Analyzer(game)\n",
    "        combos = analyzer.combo_count()\n",
    "        self.assertIsInstance(combos, pd.DataFrame)\n",
    "\n",
    "    def test_analyzer_permutation_count(self):\n",
    "        die1 = Die(np.array(['A', 'B', 'C']))\n",
    "        die2 = Die(np.array(['X', 'Y', 'Z']))\n",
    "        game = Game([die1, die2])\n",
    "        game.play(3)\n",
    "        analyzer = Analyzer(game)\n",
    "        perms = analyzer.permutation_count()\n",
    "        self.assertIsInstance(perms, pd.DataFrame)\n",
    "\n",
    "if __name__ == '__main__':\n",
    "    unittest.main()\"\"\""
   ]
  },
  {
   "cell_type": "markdown",
   "metadata": {
    "tags": []
   },
   "source": [
    "## Unittest Results (3)\n",
    "\n",
    "Put a copy of the results of running your tests from the command line here.\n",
    "\n",
    "Again, paste as text using triple backticks.\n",
    "\n",
    "- All 12 specified methods return OK (3; .25 each)."
   ]
  },
  {
   "cell_type": "raw",
   "metadata": {
    "tags": []
   },
   "source": [
    "-bash-4.2$python3 montecarlo_test.py\n",
    "...Row 0: ['B', 'X']\n",
    "Row 1: ['A', 'Y']\n",
    "Row 2: ['C', 'X']\n",
    "Row 3: ['B', 'Z']\n",
    "Row 4: ['B', 'X']\n",
    "Results:\n",
    "  Die_1 Die_2\n",
    "0     B     X\n",
    "1     A     Y\n",
    "2     C     X\n",
    "3     B     Z\n",
    "4     B     X\n",
    "Jackpot Count:\n",
    "0\n",
    ".......EE....\n",
    "======================================================================\n",
    "ERROR: test_die_validate_faces_and_weights_distinct_faces (__main__.TestMonteCarlo)\n",
    "----------------------------------------------------------------------\n",
    "Traceback (most recent call last):\n",
    "  File \"montecarlo_test.py\", line 49, in test_die_validate_faces_and_weights_distinct_fac\n",
    "es\n",
    "    die_not_distinct = Die(faces_not_distinct, weights)\n",
    "  File \"/sfs/qumulo/qhome/mjp2da/montecarlo/montecarlo.py\", line 26, in __init__\n",
    "    self._validate_faces_and_weights()\n",
    "  File \"/sfs/qumulo/qhome/mjp2da/montecarlo/montecarlo.py\", line 39, in _validate_faces_a\n",
    "nd_weights\n",
    "    raise ValueError(\"Faces must be distinct.\")\n",
    "ValueError: Faces must be distinct.\n",
    "======================================================================\n",
    "ERROR: test_die_validate_faces_and_weights_numeric_weights (__main__.TestMonteCarlo)\n",
    "----------------------------------------------------------------------\n",
    "Traceback (most recent call last):\n",
    "  File \"montecarlo_test.py\", line 70, in test_die_validate_faces_and_weights_numeric_weig\n",
    "hts \n",
    "die_non_numeric = Die(faces, weights_non_numeric)\n",
    "  File \"/sfs/qumulo/qhome/mjp2da/montecarlo/montecarlo.py\", line 26, in __init__\n",
    "    self._validate_faces_and_weights()\n",
    "  File \"/sfs/qumulo/qhome/mjp2da/montecarlo/montecarlo.py\", line 44, in _validate_faces_a\n",
    "nd_weights\n",
    "    raise TypeError(\"Weights must be numeric.\")\n",
    "TypeError: Weights must be numeric.\n",
    "----------------------------------------------------------------------\n",
    "Ran 16 tests in 0.049s\n",
    "FAILED (errors=2)"
   ]
  },
  {
   "cell_type": "code",
   "execution_count": null,
   "metadata": {},
   "outputs": [],
   "source": [
    "#I would like to point out that I made extra tests for methods I added, two specific ones that are giving intentional errors.\n",
    "#The error messages indicate that the test cases are working as expected. \n",
    "#The ValueError is raised when there are non-distinct faces, and the TypeError is raised when non-numeric weights are provided.\n",
    "#The errors are intentional in the context of the test cases to ensure that the validation functions are correctly identifying invalid inputs."
   ]
  },
  {
   "cell_type": "markdown",
   "metadata": {},
   "source": [
    "## Import (1)\n",
    "\n",
    "Import your module here. This import should refer to the code in your package directory.\n",
    "\n",
    "- Module successuflly imported (1)."
   ]
  },
  {
   "cell_type": "code",
   "execution_count": 29,
   "metadata": {
    "tags": []
   },
   "outputs": [],
   "source": [
    "from montecarlo import Die, Game, Analyzer"
   ]
  },
  {
   "cell_type": "markdown",
   "metadata": {},
   "source": [
    "## Help Docs (4)\n",
    "\n",
    "Show your docstring documentation by applying `help()` to your imported module.\n",
    "\n",
    "- All methods have a docstring (3; .25 each).\n",
    "- All classes have a docstring (1; .33 each)."
   ]
  },
  {
   "cell_type": "code",
   "execution_count": 19,
   "metadata": {
    "tags": []
   },
   "outputs": [
    {
     "name": "stdout",
     "output_type": "stream",
     "text": [
      "Help on module montecarlo:\n",
      "\n",
      "NAME\n",
      "    montecarlo - # montecarlo/montecarlo.py\n",
      "\n",
      "CLASSES\n",
      "    builtins.object\n",
      "        Analyzer\n",
      "        Die\n",
      "        Game\n",
      "    \n",
      "    class Analyzer(builtins.object)\n",
      "     |  Analyzer(game: montecarlo.Game)\n",
      "     |  \n",
      "     |  Analyzer class for computing statistical properties of a Game.\n",
      "     |  \n",
      "     |  Attributes:\n",
      "     |  - game (Game): Game object for analysis.\n",
      "     |  \n",
      "     |  Methods:\n",
      "     |  - __init__(game: Game): Initializes an Analyzer object with a Game for analysis.\n",
      "     |  - jackpot() -> int: Computes the number of jackpots in the game results.\n",
      "     |  - face_counts_per_roll() -> pd.DataFrame: Computes face counts per roll in wide format.\n",
      "     |  - combo_count() -> pd.DataFrame: Computes distinct combinations of faces and their counts.\n",
      "     |  - permutation_count() -> pd.DataFrame: Computes distinct permutations of faces and their counts.\n",
      "     |  \n",
      "     |  Methods defined here:\n",
      "     |  \n",
      "     |  __init__(self, game: montecarlo.Game)\n",
      "     |      Initialize self.  See help(type(self)) for accurate signature.\n",
      "     |  \n",
      "     |  combo_count(self) -> pandas.core.frame.DataFrame\n",
      "     |  \n",
      "     |  face_counts_per_roll(self) -> pandas.core.frame.DataFrame\n",
      "     |  \n",
      "     |  jackpot(self) -> int\n",
      "     |  \n",
      "     |  permutation_count(self) -> pandas.core.frame.DataFrame\n",
      "     |  \n",
      "     |  ----------------------------------------------------------------------\n",
      "     |  Data descriptors defined here:\n",
      "     |  \n",
      "     |  __dict__\n",
      "     |      dictionary for instance variables (if defined)\n",
      "     |  \n",
      "     |  __weakref__\n",
      "     |      list of weak references to the object (if defined)\n",
      "    \n",
      "    class Die(builtins.object)\n",
      "     |  Die(faces, weights=None)\n",
      "     |  \n",
      "     |  Die class representing a single die with customizable faces and weights.\n",
      "     |  \n",
      "     |  Attributes:\n",
      "     |  - faces (numpy.ndarray): An array of faces on the die.\n",
      "     |  - weights (numpy.ndarray): An array of weights corresponding to the faces.\n",
      "     |  \n",
      "     |  Methods:\n",
      "     |  - __init__(faces, weights=None): Initializes a Die object with faces and weights.\n",
      "     |  - _validate_faces_and_weights(): Validates that faces are distinct and weights are numeric.\n",
      "     |  - _validate_face(face): Validates a single face.\n",
      "     |  - _validate_weight(weight): Validates a single weight.\n",
      "     |  - change_weight(face: str, weight: float): Changes the weight of a specific face.\n",
      "     |  - roll(times: int = 1) -> List[str]: Rolls the die a specified number of times.\n",
      "     |  - show_state() -> pd.DataFrame: Returns a copy of the die's current state.\n",
      "     |  \n",
      "     |  Methods defined here:\n",
      "     |  \n",
      "     |  __init__(self, faces, weights=None)\n",
      "     |      Initialize self.  See help(type(self)) for accurate signature.\n",
      "     |  \n",
      "     |  change_weight(self, face: str, weight: float)\n",
      "     |  \n",
      "     |  roll(self, times: int = 1) -> List[str]\n",
      "     |  \n",
      "     |  show_state(self) -> pandas.core.frame.DataFrame\n",
      "     |  \n",
      "     |  ----------------------------------------------------------------------\n",
      "     |  Data descriptors defined here:\n",
      "     |  \n",
      "     |  __dict__\n",
      "     |      dictionary for instance variables (if defined)\n",
      "     |  \n",
      "     |  __weakref__\n",
      "     |      list of weak references to the object (if defined)\n",
      "    \n",
      "    class Game(builtins.object)\n",
      "     |  Game(dice: List[montecarlo.Die])\n",
      "     |  \n",
      "     |  Game class for simulating the rolling of multiple similar dice.\n",
      "     |  \n",
      "     |  Attributes:\n",
      "     |  - dice (List[Die]): List of Die objects representing the dice in the game.\n",
      "     |  - play_results (pd.DataFrame): DataFrame to store results of the most recent play.\n",
      "     |  \n",
      "     |  Methods:\n",
      "     |  - __init__(dice: List[Die]): Initializes a Game object with a list of similar dice.\n",
      "     |  - play(times: int): Rolls all dice a specified number of times and saves results.\n",
      "     |  - show_results(format: str = 'wide') -> pd.DataFrame: Returns a copy of the play results.\n",
      "     |  \n",
      "     |  Methods defined here:\n",
      "     |  \n",
      "     |  __init__(self, dice: List[montecarlo.Die])\n",
      "     |      Initialize self.  See help(type(self)) for accurate signature.\n",
      "     |  \n",
      "     |  play(self, times: int)\n",
      "     |  \n",
      "     |  show_results(self, format: str = 'wide') -> pandas.core.frame.DataFrame\n",
      "     |  \n",
      "     |  ----------------------------------------------------------------------\n",
      "     |  Data descriptors defined here:\n",
      "     |  \n",
      "     |  __dict__\n",
      "     |      dictionary for instance variables (if defined)\n",
      "     |  \n",
      "     |  __weakref__\n",
      "     |      list of weak references to the object (if defined)\n",
      "\n",
      "DATA\n",
      "    List = typing.List\n",
      "\n",
      "FILE\n",
      "    /sfs/weka/scratch/mjp2da/montecarlo.py\n",
      "\n",
      "\n"
     ]
    }
   ],
   "source": [
    "import montecarlo\n",
    "help(montecarlo)\n"
   ]
  },
  {
   "cell_type": "markdown",
   "metadata": {},
   "source": [
    "## `README.md` File (3)\n",
    "\n",
    "Provide link to the README.md file of your project's repo.\n",
    "\n",
    "- Metadata section or info present (1).\n",
    "- Synopsis section showing how each class is called (1). (All must be included.)\n",
    "- API section listing all classes and methods (1). (All must be included.)"
   ]
  },
  {
   "cell_type": "markdown",
   "metadata": {},
   "source": [
    "URL: https://github.com/maxpearton/mjp2da_ds5100_montecarlo/blob/main/README.md"
   ]
  },
  {
   "cell_type": "markdown",
   "metadata": {},
   "source": [
    "## Successful installation (2)\n",
    "\n",
    "Put a screenshot or paste a copy of a terminal session where you successfully install your module with pip.\n",
    "\n",
    "If pasting text, use a preformatted text block to show the results.\n",
    "\n",
    "- Installed with `pip` (1).\n",
    "- Successfully installed message appears (1)."
   ]
  },
  {
   "cell_type": "raw",
   "metadata": {},
   "source": [
    "-bash-4.2$pip install montecarlo\n",
    "DEPRECATION: Python 2.7 reached the end of its life on January 1st, 2020. Please upgrade \n",
    "your Python as Python 2.7 is no longer maintained. pip 21.0 will drop support for Python \n",
    "2.7 in January 2021. More details about Python 2 support in pip can be found at https://p\n",
    "ip.pypa.io/en/latest/development/release-process/#python-2-support pip 21.0 will remove s\n",
    "upport for this functionality.\n",
    "Defaulting to user installation because normal site-packages is not writeable\n",
    "Collecting montecarlo\n",
    "  Downloading montecarlo-0.1.17.tar.gz (1.3 kB)\n",
    "Building wheels for collected packages: montecarlo\n",
    "  Building wheel for montecarlo (setup.py) ... done\n",
    "  Created wheel for montecarlo: filename=montecarlo-0.1.17-py2-none-any.whl size=1882 sha\n",
    "256=c034ff9fde5376794ff6c9eba5ff7d19e2a8ae1060002111d5a72bab34dca3ff\n",
    "  Stored in directory: /sfs/qumulo/qhome/mjp2da/.cache/pip/wheels/94/db/96/919bbcc92905da\n",
    "2ed8278d1ede774ef024b07d85cf864c1a01\n",
    "Successfully built montecarlo\n",
    "Installing collected packages: montecarlo\n",
    "Successfully installed montecarlo-0.1.17"
   ]
  },
  {
   "cell_type": "markdown",
   "metadata": {},
   "source": [
    "# Scenarios\n",
    "\n",
    "Use code blocks to perform the tasks for each scenario.\n",
    "\n",
    "Be sure the outputs are visible before submitting."
   ]
  },
  {
   "cell_type": "markdown",
   "metadata": {
    "tags": []
   },
   "source": [
    "## Scenario 1: A 2-headed Coin (9)\n",
    "\n",
    "Task 1. Create a fair coin (with faces $H$ and $T$) and one unfair coin in which one of the faces has a weight of $5$ and the others $1$.\n",
    "\n",
    "- Fair coin created (1).\n",
    "- Unfair coin created with weight as specified (1)."
   ]
  },
  {
   "cell_type": "code",
   "execution_count": 2,
   "metadata": {},
   "outputs": [],
   "source": [
    "from montecarlo import Die, Game, Analyzer\n",
    "import matplotlib.pyplot as plt\n",
    "import numpy as np\n",
    "\n",
    "# Create a fair coin\n",
    "fair_coin = Die(faces=['H', 'T'])\n",
    "\n",
    "# Create an unfair coin\n",
    "unfair_coin_weights = [1, 5]  # Unfair coin with weight 5 for 'H'\n",
    "unfair_coin = Die(faces=['H', 'T'], weights=unfair_coin_weights)"
   ]
  },
  {
   "cell_type": "markdown",
   "metadata": {},
   "source": [
    "Task 2. Play a game of $1000$ flips with two fair dice.\n",
    "\n",
    "- Play method called correclty and without error (1)."
   ]
  },
  {
   "cell_type": "code",
   "execution_count": 3,
   "metadata": {},
   "outputs": [],
   "source": [
    "game_fair_dice = Game([fair_coin, fair_coin])\n",
    "game_fair_dice.play(1000)"
   ]
  },
  {
   "cell_type": "markdown",
   "metadata": {},
   "source": [
    "Task 3. Play another game (using a new Game object) of $1000$ flips, this time using two unfair dice and one fair die. For the second unfair die, you can use the same die object twice in the list of dice you pass to the Game object.\n",
    "\n",
    "- New game object created (1).\n",
    "- Play method called correclty and without error (1)."
   ]
  },
  {
   "cell_type": "code",
   "execution_count": 4,
   "metadata": {},
   "outputs": [],
   "source": [
    "game_unfair_dice = Game([unfair_coin, unfair_coin, fair_coin])\n",
    "game_unfair_dice.play(1000)"
   ]
  },
  {
   "cell_type": "markdown",
   "metadata": {},
   "source": [
    "Task 4. For each game, use an Analyzer object to determine the raw frequency of jackpots — i.e. getting either all $H$s or all $T$s.\n",
    "\n",
    "- Analyzer objecs instantiated for both games (1).\n",
    "- Raw frequencies reported for both (1)."
   ]
  },
  {
   "cell_type": "code",
   "execution_count": 5,
   "metadata": {},
   "outputs": [
    {
     "name": "stdout",
     "output_type": "stream",
     "text": [
      "Results:\n",
      "    Die_1 Die_2\n",
      "0       T     H\n",
      "1       T     H\n",
      "2       T     H\n",
      "3       H     H\n",
      "4       T     T\n",
      "..    ...   ...\n",
      "995     T     T\n",
      "996     H     H\n",
      "997     H     H\n",
      "998     H     H\n",
      "999     H     T\n",
      "\n",
      "[1000 rows x 2 columns]\n",
      "Jackpot Count:\n",
      "484\n",
      "Results:\n",
      "    Die_1 Die_2 Die_3\n",
      "0       T     T     H\n",
      "1       H     T     T\n",
      "2       T     T     H\n",
      "3       T     T     H\n",
      "4       H     T     T\n",
      "..    ...   ...   ...\n",
      "995     T     T     T\n",
      "996     T     H     T\n",
      "997     T     T     T\n",
      "998     T     T     H\n",
      "999     T     H     T\n",
      "\n",
      "[1000 rows x 3 columns]\n",
      "Jackpot Count:\n",
      "368\n",
      "484\n",
      "368\n"
     ]
    }
   ],
   "source": [
    "analyzer_fair_dice = Analyzer(game_fair_dice)\n",
    "analyzer_unfair_dice = Analyzer(game_unfair_dice)\n",
    "\n",
    "raw_frequency_fair = analyzer_fair_dice.jackpot()\n",
    "raw_frequency_unfair = analyzer_unfair_dice.jackpot()\n",
    "\n",
    "print(raw_frequency_fair)\n",
    "print(raw_frequency_unfair)"
   ]
  },
  {
   "cell_type": "markdown",
   "metadata": {},
   "source": [
    "Task 5. For each analyzer, compute relative frequency as the number of jackpots over the total number of rolls.\n",
    "\n",
    "- Both relative frequencies computed (1)."
   ]
  },
  {
   "cell_type": "code",
   "execution_count": 6,
   "metadata": {},
   "outputs": [],
   "source": [
    "total_rolls_fair = len(game_fair_dice.show_results())\n",
    "total_rolls_unfair = len(game_unfair_dice.show_results())\n",
    "\n",
    "relative_frequency_fair = raw_frequency_fair / total_rolls_fair\n",
    "relative_frequency_unfair = raw_frequency_unfair / total_rolls_unfair"
   ]
  },
  {
   "cell_type": "markdown",
   "metadata": {},
   "source": [
    "Task 6. Show your results, comparing the two relative frequencies, in a simple bar chart.\n",
    "\n",
    "- Bar chart plotted and correct (1)."
   ]
  },
  {
   "cell_type": "code",
   "execution_count": 7,
   "metadata": {},
   "outputs": [
    {
     "data": {
      "image/png": "[encoded data removed]",
      "text/plain": [
       "<Figure size 432x288 with 1 Axes>"
      ]
     },
     "metadata": {
      "needs_background": "light"
     },
     "output_type": "display_data"
    }
   ],
   "source": [
    "relative_frequencies = [relative_frequency_fair, relative_frequency_unfair]\n",
    "labels = ['Fair Dice', 'Unfair Dice']\n",
    "\n",
    "plt.bar(labels, relative_frequencies)\n",
    "plt.xlabel('Dice Type')\n",
    "plt.ylabel('Relative Frequency')\n",
    "plt.title('Relative Frequency of Jackpots')\n",
    "plt.show()"
   ]
  },
  {
   "cell_type": "markdown",
   "metadata": {},
   "source": [
    "## Scenario 2: A 6-sided Die (9)\n",
    "\n",
    "Task 1. Create three dice, each with six sides having the faces 1 through 6.\n",
    "\n",
    "- Three die objects created (1)."
   ]
  },
  {
   "cell_type": "code",
   "execution_count": 8,
   "metadata": {},
   "outputs": [],
   "source": [
    "dice_1 = Die(faces=[1, 2, 3, 4, 5, 6])\n",
    "dice_2 = Die(faces=[1, 2, 3, 4, 5, 6])\n",
    "dice_3 = Die(faces=[1, 2, 3, 4, 5, 6])"
   ]
  },
  {
   "cell_type": "markdown",
   "metadata": {},
   "source": [
    "Task 2. Convert one of the dice to an unfair one by weighting the face $6$ five times more than the other weights (i.e. it has weight of 5 and the others a weight of 1 each).\n",
    "\n",
    "- Unfair die created with proper call to weight change method (1)."
   ]
  },
  {
   "cell_type": "code",
   "execution_count": 9,
   "metadata": {},
   "outputs": [],
   "source": [
    "dice_1.change_weight(6, 5)"
   ]
  },
  {
   "cell_type": "markdown",
   "metadata": {},
   "source": [
    "Task 3. Convert another of the dice to be unfair by weighting the face $1$ five times more than the others.\n",
    "\n",
    "- Unfair die created with proper call to weight change method (1)."
   ]
  },
  {
   "cell_type": "code",
   "execution_count": 10,
   "metadata": {},
   "outputs": [],
   "source": [
    "dice_2.change_weight(1, 5)"
   ]
  },
  {
   "cell_type": "markdown",
   "metadata": {},
   "source": [
    "Task 4. Play a game of $10000$ rolls with $5$ fair dice.\n",
    "\n",
    "- Game class properly instantiated (1). \n",
    "- Play method called properly (1)."
   ]
  },
  {
   "cell_type": "code",
   "execution_count": 11,
   "metadata": {},
   "outputs": [],
   "source": [
    "game_fair_dice_5 = Game([dice_1, dice_2, dice_3, dice_1, dice_2])\n",
    "game_fair_dice_5.play(10000)"
   ]
  },
  {
   "cell_type": "markdown",
   "metadata": {},
   "source": [
    "Task 5. Play another game of $10000$ rolls, this time with $2$ unfair dice, one as defined in steps #2 and #3 respectively, and $3$ fair dice.\n",
    "\n",
    "- Game class properly instantiated (1). \n",
    "- Play method called properly (1)."
   ]
  },
  {
   "cell_type": "code",
   "execution_count": 12,
   "metadata": {},
   "outputs": [],
   "source": [
    "game_unfair_dice_2 = Game([dice_1, dice_2, dice_3, dice_1, dice_2])\n",
    "game_unfair_dice_2.play(10000)"
   ]
  },
  {
   "cell_type": "markdown",
   "metadata": {},
   "source": [
    "Task 6. For each game, use an Analyzer object to determine the relative frequency of jackpots and show your results, comparing the two relative frequencies, in a simple bar chart.\n",
    "\n",
    "- Jackpot methods called (1).\n",
    "- Graph produced (1)."
   ]
  },
  {
   "cell_type": "code",
   "execution_count": 13,
   "metadata": {},
   "outputs": [
    {
     "name": "stdout",
     "output_type": "stream",
     "text": [
      "Results:\n",
      "      Die_1  Die_2  Die_3  Die_4  Die_5\n",
      "0         1      6      3      6      1\n",
      "1         5      2      6      3      1\n",
      "2         3      1      6      6      5\n",
      "3         2      2      1      3      1\n",
      "4         5      1      5      6      1\n",
      "...     ...    ...    ...    ...    ...\n",
      "9995      6      3      5      3      1\n",
      "9996      2      5      3      4      1\n",
      "9997      6      4      1      1      1\n",
      "9998      6      1      5      6      1\n",
      "9999      4      3      2      3      1\n",
      "\n",
      "[10000 rows x 5 columns]\n",
      "Jackpot Count:\n",
      "8\n",
      "Results:\n",
      "      Die_1  Die_2  Die_3  Die_4  Die_5\n",
      "0         5      2      3      6      4\n",
      "1         6      1      6      6      1\n",
      "2         6      1      5      6      1\n",
      "3         5      6      4      5      1\n",
      "4         6      2      2      6      3\n",
      "...     ...    ...    ...    ...    ...\n",
      "9995      4      1      4      6      2\n",
      "9996      3      2      2      1      1\n",
      "9997      3      1      5      1      1\n",
      "9998      5      1      4      6      5\n",
      "9999      3      1      6      4      1\n",
      "\n",
      "[10000 rows x 5 columns]\n",
      "Jackpot Count:\n",
      "10\n"
     ]
    },
    {
     "data": {
      "image/png": "[encoded data removed]",
      "text/plain": [
       "<Figure size 432x288 with 1 Axes>"
      ]
     },
     "metadata": {
      "needs_background": "light"
     },
     "output_type": "display_data"
    }
   ],
   "source": [
    "analyzer_fair_dice_5 = Analyzer(game_fair_dice_5)\n",
    "analyzer_unfair_dice_2 = Analyzer(game_unfair_dice_2)\n",
    "\n",
    "relative_frequency_fair_dice_5 = analyzer_fair_dice_5.jackpot() / len(game_fair_dice_5.show_results())\n",
    "relative_frequency_unfair_dice_2 = analyzer_unfair_dice_2.jackpot() / len(game_unfair_dice_2.show_results())\n",
    "\n",
    "relative_frequencies_scenario_2 = [relative_frequency_fair_dice_5, relative_frequency_unfair_dice_2]\n",
    "labels_scenario_2 = ['Fair Dice (5)', 'Unfair Dice (2)']\n",
    "\n",
    "plt.bar(labels_scenario_2, relative_frequencies_scenario_2)\n",
    "plt.xlabel('Dice Type')\n",
    "plt.ylabel('Relative Frequency')\n",
    "plt.title('Relative Frequency of Jackpots')\n",
    "plt.show()"
   ]
  },
  {
   "cell_type": "markdown",
   "metadata": {},
   "source": [
    "## Scenario 3: Letters of the Alphabet (7)\n",
    "\n",
    "Task 1. Create a \"die\" of letters from $A$ to $Z$ with weights based on their frequency of usage as found in the data file `english_letters.txt`. Use the frequencies (i.e. raw counts) as weights.\n",
    "\n",
    "- Die correctly instantiated with source file data (1).\n",
    "- Weights properly applied using weight setting method (1)."
   ]
  },
  {
   "cell_type": "code",
   "execution_count": 14,
   "metadata": {},
   "outputs": [],
   "source": [
    "from montecarlo import Die\n",
    "import pandas as pd\n",
    "\n",
    "# Load frequency data from a file\n",
    "frequency_data = pd.read_csv('english_letters.txt', sep=' ', header=None, names=['Letter', 'Frequency'])\n",
    "frequency_weights = frequency_data['Frequency'].tolist()\n",
    "\n",
    "# Create a die with letters and weights\n",
    "alphabet_die = Die(faces=frequency_data['Letter'].tolist(), weights=frequency_weights)"
   ]
  },
  {
   "cell_type": "markdown",
   "metadata": {},
   "source": [
    "Task 2. Play a game involving $4$ of these dice with $1000$ rolls.\n",
    "\n",
    "- Game play method properly called (1)."
   ]
  },
  {
   "cell_type": "code",
   "execution_count": 15,
   "metadata": {},
   "outputs": [],
   "source": [
    "game_letter_dice_4 = Game([alphabet_die, alphabet_die, alphabet_die, alphabet_die])\n",
    "game_letter_dice_4.play(1000)"
   ]
  },
  {
   "cell_type": "markdown",
   "metadata": {},
   "source": [
    "Task 3. Determine how many permutations in your results are actual English words, based on the vocabulary found in `scrabble_words.txt`.\n",
    "\n",
    "- Use permutation method (1).\n",
    "- Get count as difference between permutations and vocabulary (1)."
   ]
  },
  {
   "cell_type": "code",
   "execution_count": 16,
   "metadata": {},
   "outputs": [
    {
     "name": "stdout",
     "output_type": "stream",
     "text": [
      "54\n",
      "{'STNE', 'ETYE', 'INBL', 'ATBH', 'RRBT', 'ARRE', 'MSAM', 'ICMP', 'AIGG', 'MFEH', 'OOTT', 'EPPS', 'NMII', 'IMCE', 'NTSA', 'LVWA', 'UCED', 'SHSD', 'KIRE', 'ISOR', 'BOTS', 'UAED', 'NSET', 'ENGR', 'DTET', 'NDFL', 'KRME', 'LRIT', 'WMIS', 'NHEP', 'AAID', 'EIAS', 'EDIA', 'TEBH', 'IDRY', 'UTRP', 'OEES', 'SEIA', 'LAII', 'ATES', 'ETNI', 'RTSW', 'HHEG', 'IPTO', 'STET', 'GRTH', 'EOIW', 'OITL', 'OAEL', 'ELTP', 'UTPA', 'EBSN', 'HSSN', 'RMIR', 'LOHR', 'HODO', 'LHOY', 'HMET', 'LXIL', 'LONA', 'NASI', 'TCES', 'SLBX', 'HOEW', 'TOIH', 'DDSS', 'AKLE', 'UTNA', 'OIWO', 'PEHI', 'WAIH', 'YELH', 'IEFR', 'MOEU', 'HEEB', 'THBG', 'ONIE', 'NHCF', 'IAAA', 'EANE', 'BEYM', 'RSFA', 'ARTH', 'ADAU', 'WSOH', 'DFKF', 'RANI', 'BTEO', 'SHAA', 'DIOT', 'YNWA', 'PCSN', 'UOTA', 'SASS', 'OERL', 'AMTH', 'EETT', 'ARTM', 'GHAO', 'RHMU', 'IAER', 'NARS', 'FEAL', 'ITEE', 'OAEO', 'HRLT', 'STNW', 'RAEA', 'EOET', 'VSMB', 'UYIO', 'ITFU', 'ATAO', 'SSDL', 'ITEP', 'BESC', 'AUUT', 'SEGY', 'RCMI', 'PTTE', 'USER', 'PRIL', 'ETHA', 'KCAT', 'ICNO', 'EOHI', 'CRUA', 'TIEU', 'DSTD', 'ENYE', 'FSDN', 'NEIO', 'YRCA', 'ENAS', 'OEOK', 'TANH', 'IECE', 'DOGS', 'RIVF', 'EEME', 'ECNR', 'SEBE', 'IIHR', 'EHAK', 'LATT', 'OLNY', 'WDTC', 'EATH', 'IUTN', 'OHBS', 'ANTI', 'CNWA', 'NEUE', 'LTRS', 'UBTH', 'GICM', 'UTRE', 'NCCI', 'OETH', 'GUNH', 'WOIR', 'BIEE', 'EGCI', 'TDFA', 'ALAI', 'WIFN', 'ASWP', 'HCAT', 'RHBD', 'PAND', 'FVNE', 'SMSS', 'ANEY', 'EACD', 'MNTR', 'LTKI', 'OEOI', 'NBTU', 'EGAI', 'EASS', 'IEMT', 'OTSS', 'YEGR', 'SNGO', 'FRRA', 'UTCA', 'ERCA', 'ADLA', 'DHRE', 'RASE', 'SWWR', 'RLET', 'HRRT', 'HDEB', 'YVAT', 'NESO', 'AATI', 'TUEL', 'LAYB', 'LSAO', 'LARF', 'WCVH', 'TSSE', 'EOTV', 'HPOD', 'AHTE', 'AISA', 'NMSU', 'IHYI', 'SREB', 'EDAN', 'RIDT', 'YSOR', 'BEPE', 'NLGR', 'SCFL', 'EERH', 'RDAY', 'DTLS', 'WSIU', 'ERII', 'TFLM', 'RNIY', 'NNDE', 'HEGI', 'VPMN', 'MDWV', 'LLDN', 'COWA', 'ERCO', 'AAPP', 'DRUR', 'TMFN', 'ESCU', 'LLIC', 'HNEW', 'ADAN', 'THWR', 'CORR', 'RREJ', 'RSIE', 'TOSE', 'HTMT', 'YNHL', 'EACO', 'WEIA', 'LSEO', 'URGT', 'ILOA', 'ECRE', 'NTHC', 'EALA', 'EYWU', 'RUOM', 'ATRP', 'AANS', 'LESB', 'SINN', 'OARR', 'EHEN', 'OWRP', 'AREV', 'OLTE', 'TETI', 'AALS', 'UIOD', 'SVWU', 'BOEM', 'ANTE', 'TSCI', 'HSAI', 'NELA', 'AFRO', 'SLRY', 'SIPI', 'THTO', 'AIOI', 'EBET', 'AEAT', 'GSSR', 'THMD', 'HLEO', 'ONWR', 'ISNS', 'FNEO', 'HLEN', 'OANA', 'TELI', 'YWCL', 'PEIR', 'IEEI', 'ACPA', 'IYHS', 'FKNI', 'EFWV', 'ANHL', 'SSEN', 'IHDT', 'GRHO', 'SAST', 'SONU', 'SIIF', 'NESP', 'TAES', 'SATL', 'EECT', 'GNEA', 'DNYE', 'TEOV', 'TCEN', 'STOU', 'ANOR', 'HFUT', 'OLCE', 'AAHN', 'ALUH', 'IAKL', 'HEIH', 'HIHN', 'LREK', 'KORR', 'POMP', 'RLNA', 'MAOP', 'RUSH', 'FWOW', 'IHWP', 'EFAO', 'EDNA', 'RTEN', 'DRFP', 'COTS', 'ENAT', 'ENHW', 'NCEO', 'ESEC', 'AYID', 'NSOM', 'TRND', 'TLRR', 'RJSA', 'CLTH', 'ROIY', 'LRLN', 'FATN', 'FOEL', 'SGUE', 'FOIH', 'GNEO', 'NANN', 'RORU', 'EYCC', 'ERRC', 'STRC', 'GTBF', 'RHTT', 'GAIO', 'IAAV', 'GORY', 'NFOT', 'DDNI', 'DRAA', 'OISB', 'OEAT', 'INEO', 'MOOE', 'HQIU', 'ASBH', 'HINO', 'AIIE', 'ROIR', 'PNHG', 'WAOA', 'IDAS', 'LGEU', 'CHWW', 'DOMH', 'DOTI', 'SDAO', 'CKRE', 'DERW', 'AEGS', 'VTTN', 'NTAH', 'SIER', 'IALI', 'RSTT', 'IDED', 'TMTI', 'ANGG', 'RECC', 'LSYN', 'HEPI', 'OTHY', 'LITN', 'RAIT', 'IGRC', 'IRUV', 'FDAV', 'LAAH', 'SOEM', 'IOLU', 'NARM', 'SIDN', 'OOEM', 'TSTH', 'ANII', 'EAER', 'NURT', 'TEWO', 'NHEN', 'RCKT', 'DNEI', 'FEAH', 'LCEI', 'IHND', 'TEND', 'ESBH', 'PAEU', 'ERRA', 'NGBH', 'RYOA', 'SHNO', 'DTSO', 'ACTF', 'MNAO', 'AKLI', 'SDIN', 'RLHR', 'WTVR', 'USLI', 'UENO', 'TSCD', 'EUSO', 'NNFR', 'POAP', 'IGLH', 'MHRO', 'OPEO', 'STBR', 'NDAD', 'RANE', 'RVTA', 'GEAR', 'IOTE', 'EHML', 'STSS', 'LLRA', 'ISEE', 'OEON', 'ENIT', 'DTYU', 'OIIT', 'DNCA', 'FSUX', 'DSAM', 'OOBT', 'ARPS', 'NERS', 'ADRS', 'EUSU', 'NCTT', 'ARSI', 'TASI', 'SEAE', 'OMTV', 'SWAL', 'OTHG', 'ATNS', 'TRYT', 'NSRR', 'RELB', 'AELA', 'UCDE', 'DBUA', 'HYDA', 'EVAS', 'TSEE', 'OETA', 'IPEH', 'TAGH', 'EIIW', 'ARAI', 'MAAF', 'NEEN', 'BKAT', 'LHEA', 'FFYH', 'OEAP', 'SSLN', 'LDTF', 'BESO', 'LAER', 'NAOC', 'ITBE', 'ARBE', 'IGNT', 'EAYO', 'GTNN', 'TTAS', 'EOGH', 'ENTS', 'CSIH', 'TOSS', 'EHRV', 'OHEO', 'OIIN', 'SGNS', 'EPIN', 'ETAR', 'LNUR', 'SPET', 'LEEL', 'AMIM', 'UERR', 'SNOI', 'EHTO', 'IINO', 'TSFN', 'INST', 'SEAA', 'IALM', 'KDIG', 'OTAH', 'YOED', 'DOND', 'HHFI', 'EUEO', 'EHOO', 'RDXB', 'ATOT', 'TLUO', 'REOT', 'SCHO', 'IUHE', 'UAWC', 'EOTI', 'TTVR', 'BULS', 'IATA', 'RTEL', 'WAOE', 'NNOA', 'TEMX', 'FQFY', 'RRIS', 'TTFO', 'GWSN', 'OROE', 'ELNW', 'MOYE', 'GLHP', 'ONDH', 'IMOI', 'WODI', 'WWEA', 'HENR', 'OROI', 'JSAR', 'KCUI', 'CSLE', 'IJOE', 'DENO', 'GGJO', 'NIEG', 'ROHV', 'MLNA', 'OHIB', 'LOIT', 'SNOS', 'AINA', 'SLEC', 'EBON', 'OHWB', 'LOEL', 'RFHC', 'OATO', 'USAN', 'LUTR', 'AONA', 'NGWG', 'ATKS', 'EMRE', 'SMWA', 'RSST', 'TOAT', 'LRIR', 'NIYH', 'SKVO', 'AOTS', 'AFAI', 'UHAR', 'HNRC', 'NANO', 'SWLD', 'TTMO', 'LNHR', 'HNBI', 'CYGL', 'ERAE', 'YGFF', 'NCEF', 'USOO', 'YTII', 'ISFR', 'OLTS', 'TARA', 'LVNO', 'NDNA', 'HWMI', 'ATMT', 'HEOE', 'SATC', 'IETI', 'NNAH', 'NOPT', 'ENOS', 'ROEG', 'TANI', 'TLEM', 'CNTH', 'EIST', 'EESN', 'AIDS', 'WNND', 'RISE', 'SEMO', 'NOSU', 'USWH', 'JSEL', 'SRTE', 'NIVO', 'CLEM', 'BSFR', 'OIER', 'IWRA', 'OTRI', 'IIAH', 'LODP', 'OYSE', 'ULRF', 'ATET', 'DPIA', 'HTKN', 'SOEH', 'NALT', 'HNNN', 'UEHO', 'SJIS', 'ODTL', 'ORIU', 'NLTL', 'LTIE', 'IOOS', 'ISIA', 'RIIN', 'OSDA', 'ADIM', 'SNNI', 'IOCM', 'AHRM', 'NNST', 'ORTE', 'NKOT', 'WNIA', 'ANRL', 'HREU', 'WFEI', 'PSEA', 'DNTS', 'EONS', 'FGSA', 'TPGO', 'NMTH', 'BSEI', 'EWTD', 'IPZA', 'EZSS', 'RDOT', 'OTTO', 'RIWM', 'HLNE', 'EAHD', 'HTEI', 'SVLI', 'SITU', 'TNIP', 'IAKI', 'ESNI', 'TSRA', 'EORA', 'ERML', 'TRLD', 'IVUD', 'ESMO', 'EZUE', 'SLGT', 'NAAS', 'EEUW', 'USPB', 'YOTM', 'EPXM', 'NSOC', 'FRAN', 'AHLM', 'TLNA', 'VHMP', 'DRAF', 'EWHE', 'OSEL', 'EWLE', 'IHEC', 'RIOU', 'NEFS', 'RAAS', 'NFES', 'OSNC', 'IYSM', 'ISSA', 'EITR', 'ITEH', 'MRUW', 'OVEE', 'WODO', 'RTAQ', 'YEAA', 'PSCG', 'RITH', 'IGHL', 'RFSS', 'TTRE', 'OAOW', 'OWAR', 'FOIR', 'MIUW', 'OWEE', 'IFBE', 'TMMC', 'ONTD', 'ETPS', 'HEIE', 'THHO', 'NEET', 'EUET', 'HOFI', 'LANN', 'LYSO', 'NEGP', 'OFTG', 'AIRR', 'HINB', 'VELI', 'TRAE', 'AEPI', 'AFCE', 'TPYI', 'WTRE', 'EEEN', 'MWWH', 'CLIN', 'LEOM', 'AERT', 'WRSM', 'TETM', 'TNAD', 'ICMD', 'NTEH', 'DYTE', 'IHHN', 'LAEE', 'TSEU', 'OEOS', 'THSN', 'NSOA', 'RUVS', 'STCE', 'ERHL', 'RCFR', 'OANG', 'AAIN', 'CRIN', 'INIO', 'SERE', 'NUSS', 'RTTS', 'RROF', 'STTI', 'WLLS', 'IRSP', 'DEIS', 'RMUR', 'CROW', 'EUOS', 'OCRA', 'OSOE', 'YIEE', 'TONT', 'SAET', 'HELW', 'FROC', 'TYTE', 'NIED', 'IARD', 'PCLR', 'LHGO', 'LAWE', 'EMAE', 'SOIE', 'OEVG', 'TEDA', 'ENSM', 'ONEH', 'LPPE', 'WTTI', 'ETDW', 'TCFS', 'FUUT', 'SCUE', 'ATYA', 'LNNE', 'LAEW', 'TLOS', 'DNIA', 'ESSN', 'AMEA', 'ENSR', 'QREC', 'HBMI', 'EHWH', 'TACL', 'AATA', 'WSEC', 'NYIR', 'NSIU', 'UDIR', 'PITR', 'ESPL', 'EOIU', 'ORAZ', 'ERAT', 'GSAD', 'LPIS', 'EAOA', 'IOAE', 'EBID', 'IHGR', 'ULDC', 'BSNE', 'NLEO', 'EECS', 'BOAA', 'HEOI', 'WXNA', 'ISIL', 'EHOE', 'AOTT', 'OEIL', 'BITT', 'USHS', 'SCIE', 'OOHR', 'REYS', 'UOND', 'DIPT', 'YETS', 'ENST', 'OESD', 'OODL', 'LRLE', 'TVEN', 'AENN', 'OUAE', 'KEHT', 'WDNE', 'SGMH', 'ACGR', 'REAO', 'RPGL', 'ALYO', 'AHOT', 'HTNS', 'BHPH', 'ESRD', 'CBAC', 'VSEO', 'HACR', 'DUSO', 'PNBI', 'IFHU', 'STRT', 'NTHA', 'NISE', 'WUOI', 'RGSO', 'LMNE', 'OTSN', 'EORO', 'REAL', 'HANR', 'NTTI', 'AIEB', 'LNEI', 'ECWL', 'TITT', 'IIEP', 'ENAF', 'DSHV', 'WOCB', 'URIH', 'ADOS', 'ECDT', 'GFDA', 'UTEP', 'GPEB', 'CIHN', 'SEEN', 'PSBN', 'ACAN', 'GIOU', 'PERE', 'ITRS', 'UNTT', 'TARE', 'SHFN', 'NDLT', 'ROEI', 'NEST', 'SAIF', 'TINH', 'DEET', 'HUHD', 'NONH', 'OSVS', 'EVFN', 'ONGE', 'ETNO', 'ALRO', 'TTHE', 'ROOO', 'YASA', 'STSU', 'NAEN', 'TVED', 'OGAR', 'IWEI', 'LGRO', 'TEUK', 'CALV', 'FSHG', 'IEVM', 'UOTJ', 'HOAI', 'TIAT', 'TODO', 'CEIA', 'OCII', 'EIDE', 'OAAA', 'STDF', 'QNNI', 'LNTR', 'RLAU', 'OHHA', 'RRYT', 'DFSL', 'ATEA', 'NDRF', 'HAAH', 'SCEV', 'SALC', 'EEGE', 'NREA', 'SNIF', 'SORH', 'SSPC', 'MEGP', 'GMTG', 'YNAT', 'UYDN', 'RHUA', 'OOET', 'HFOW', 'TCWE', 'RDIH', 'RHBL', 'ROTL', 'WOTE', 'HREE', 'GEAY'}\n"
     ]
    }
   ],
   "source": [
    "scrabble_words = set(pd.read_csv('scrabble_words.txt', header=None, squeeze=True))\n",
    "\n",
    "# Get distinct permutations from the game results\n",
    "distinct_permutations = set(''.join(row) for _, row in game_letter_dice_4.show_results().iterrows())\n",
    "\n",
    "# Find the count of actual English words\n",
    "english_words_count = len(distinct_permutations.intersection(scrabble_words))\n",
    "print(english_words_count)\n",
    "print(distinct_permutations)"
   ]
  },
  {
   "cell_type": "markdown",
   "metadata": {},
   "source": [
    "Task 4. Repeat steps #2 and #3, this time with $5$ dice. How many actual words does this produce? Which produces more?\n",
    "\n",
    "- Successfully repreats steps (1).\n",
    "- Identifies parameter with most found words (1)."
   ]
  },
  {
   "cell_type": "code",
   "execution_count": 17,
   "metadata": {},
   "outputs": [
    {
     "name": "stdout",
     "output_type": "stream",
     "text": [
      "6\n",
      "{'OOEDI', 'TESLE', 'KATNU', 'RHSRB', 'TRNTH', 'SYIOD', 'YEETI', 'ESRPE', 'NSGSS', 'OLORG', 'TIRUO', 'ARUUQ', 'APNNC', 'IMAAS', 'YITTI', 'XAIGT', 'SOEHB', 'DFWDB', 'SBNES', 'LOEEE', 'ATRDE', 'PTDNE', 'YTUPD', 'RKGLN', 'HTEOE', 'ILTTR', 'TCLTI', 'FEFAT', 'ITOOF', 'SAAIA', 'AOILN', 'EYMHM', 'VSONT', 'TATAW', 'LBEEI', 'OGUTO', 'PPDTA', 'IVOUA', 'LEMSS', 'TTIAH', 'TOEIS', 'GSOIR', 'ORITG', 'FLLEM', 'OTRNR', 'SLRES', 'SOIEO', 'MOITN', 'ADYDW', 'SSKOG', 'MARRT', 'BEPCH', 'FTATE', 'YSETT', 'OYDYN', 'MSPDL', 'ORAST', 'HNEIT', 'TCNGV', 'ENEAS', 'CHOIR', 'WTEEO', 'ISTKA', 'NCUSE', 'ERMHI', 'CUAEL', 'TDHDL', 'PLWTE', 'OSATV', 'SHSEI', 'IAWUO', 'SSTPN', 'SSAET', 'TENET', 'STOGH', 'AFOIP', 'TEUSL', 'RLIIN', 'TSEAP', 'GTORR', 'ANORR', 'SELEE', 'HEDIE', 'TWNTM', 'EOATA', 'OMEUY', 'DTEEA', 'NOHAW', 'ZEHNE', 'LDAIR', 'ELRAG', 'OSNSL', 'UNAKI', 'WLSOS', 'ONDEY', 'NATII', 'ATMTL', 'IEOUN', 'STLCL', 'SOEWT', 'KDLNI', 'AOENO', 'HNHYD', 'RTSNO', 'RHAII', 'SONRS', 'DSDRU', 'ETTDA', 'SAEEA', 'IAOTP', 'HUBNA', 'NLASD', 'IOCTN', 'VTTSU', 'TASCW', 'ROKIW', 'KSATH', 'SSOAA', 'GSICS', 'ITLOA', 'HRLDD', 'OAHEU', 'AAVRI', 'SOYEL', 'IHURE', 'CNDSH', 'CDDTU', 'OFAAE', 'FOMAI', 'OLRLL', 'TNLMS', 'LTMAN', 'RHIHG', 'MISEA', 'FTOER', 'MSACI', 'SNHRN', 'EOEOT', 'HLBIN', 'RIENH', 'RTTSL', 'CARWG', 'TEUHJ', 'ESHMT', 'WTEMS', 'EARSY', 'IKWLN', 'IDTRS', 'STYBO', 'EPNAF', 'OTIET', 'OEASS', 'ETLCD', 'TITRI', 'ROEYE', 'OEFTA', 'TRSTD', 'OORTY', 'AOACW', 'TRGUE', 'NITNO', 'TRUNG', 'TPIPI', 'PNRGR', 'NSTDA', 'NAOEO', 'LRITI', 'NROUA', 'WALGC', 'HONEE', 'YTIEF', 'UEUTS', 'ONNEE', 'OLVRH', 'CEAKT', 'WSSGB', 'ATAAI', 'AAPOD', 'LNITR', 'TEENG', 'AECYM', 'TUTEY', 'DUGNI', 'EDHII', 'DRONE', 'EHSEE', 'SNCLM', 'SROOO', 'TMTLE', 'TRDET', 'SSRAT', 'DTEAT', 'DATYA', 'KFWRN', 'HANMN', 'INOCI', 'UIGNB', 'NHNNU', 'LABOD', 'EADRW', 'NDAAS', 'GUONR', 'TFASD', 'EEONC', 'TBETY', 'EIFTY', 'EHAUO', 'KFAYE', 'EGOEE', 'SEIEF', 'OUTDS', 'MHGDI', 'NTIUS', 'AHARE', 'EMARE', 'CTAFT', 'EOHNP', 'MDPSK', 'AALEI', 'IAENS', 'FIFKO', 'ODEAO', 'KIHLM', 'IESOA', 'DERED', 'PTLNE', 'OEDTR', 'TMSTO', 'NIIOE', 'RLSOT', 'EAANS', 'VBBDS', 'EOHRE', 'OHWOW', 'ABASN', 'IAISO', 'NNENL', 'ELHST', 'UOIGO', 'HOYEN', 'NPNEN', 'IOEHL', 'ERNIO', 'NIEAF', 'DEHDN', 'CIYIL', 'RDRLE', 'DNLIM', 'EVIOP', 'TNTEE', 'HIOAE', 'ASHOW', 'TCOLU', 'NRNSP', 'IIABN', 'ITNDA', 'GTIEN', 'NNEOO', 'PNXRA', 'VFWAD', 'EETNO', 'ITNTG', 'EOINN', 'CSDEF', 'EYAEE', 'ECSHX', 'NABPT', 'OBEES', 'EOOLE', 'GSIEO', 'CRTRY', 'TEATS', 'CDARC', 'YTEST', 'BNIMY', 'GORTW', 'RLOJS', 'EHTNK', 'KTIIH', 'LEIGR', 'NSNBI', 'SENRW', 'HOCEH', 'ETVLS', 'TTATU', 'NAARA', 'TATTE', 'DAIMA', 'CMESE', 'AOTIN', 'EORAL', 'IMANL', 'WIETI', 'ETGMN', 'IISTS', 'UTAWX', 'TTUNR', 'ONHIS', 'UTSRI', 'VONHY', 'TTDNF', 'CSIHY', 'CHWEO', 'GMTLA', 'NCTRL', 'IEIEI', 'EIHET', 'NYNHH', 'TOEAA', 'LUNSD', 'STTXO', 'ELLAE', 'GSTNO', 'EOUAR', 'EDIIT', 'YNBTS', 'VRSPI', 'POLAU', 'CAOAL', 'ATDFI', 'KHNDI', 'THMIT', 'TIEIE', 'TILRW', 'HICTA', 'RAHEB', 'AIBLR', 'BFENH', 'GTIAL', 'TTFNJ', 'FEFNE', 'EBASG', 'EHMNU', 'NAHSS', 'WDTEH', 'NSSKI', 'ASILN', 'AEHWH', 'FOBPE', 'OWLPT', 'OTCTA', 'HRENA', 'OTTEY', 'SRTRS', 'OTIOT', 'ECHYI', 'REPGB', 'RETGT', 'NEIEP', 'TDHNS', 'PRNUR', 'SIHOI', 'NRRLE', 'TESDL', 'NEBTN', 'AMSSA', 'IANIA', 'HNNCC', 'STISM', 'OHHPA', 'FENCI', 'UASRO', 'SRNEE', 'ATMUE', 'RRPNP', 'NITTN', 'NOORT', 'OTRSD', 'TNHET', 'APLRH', 'EENNN', 'ENNWE', 'DFATA', 'PAAIT', 'RINEO', 'PALOE', 'NOEGN', 'ENIYU', 'AWCHN', 'DFWYB', 'AICJW', 'RWGCT', 'LNTAE', 'IERLE', 'NSFEA', 'AIRSE', 'ECECO', 'IONBA', 'HNVPE', 'ICESC', 'TATSR', 'ONBAA', 'OLIGI', 'DLFRI', 'RGNTI', 'OHSHS', 'TPLAE', 'WWSSM', 'KRWIW', 'RDLSA', 'ASOSS', 'CYMHC', 'OLOLS', 'CEMET', 'IRNUI', 'SHTAH', 'TAITW', 'CSSMP', 'EPNLL', 'SESWE', 'EIOET', 'MLITB', 'IGYUH', 'MTESA', 'SSIAU', 'FFERL', 'SRPTA', 'RHTAT', 'ISOUW', 'TEAIW', 'TFARH', 'OJTTP', 'UAMUI', 'KDIOA', 'ANBHR', 'EGRMS', 'ATISS', 'GAFEA', 'NOLTM', 'RFUOX', 'VEEEW', 'PTITO', 'UEAIE', 'SOPCL', 'CSLBN', 'EEOVT', 'TINNM', 'PAESE', 'ESTRM', 'BOKDC', 'HEAGM', 'IGCEE', 'OPSEN', 'TYONI', 'NFCTI', 'BECSK', 'EGRDR', 'DOISS', 'FTEOW', 'TROLT', 'HYNET', 'ENAAE', 'NENRR', 'AEIIS', 'IATCC', 'ONNCO', 'YTOAC', 'BLHEN', 'HUDDN', 'RENEN', 'EEOCC', 'AOEUR', 'NHYAN', 'HTFSO', 'LOOHD', 'KNETE', 'FLRAG', 'WAEAT', 'AHGTN', 'ESADH', 'LHIHN', 'AWDSS', 'RWNOI', 'HDPNH', 'NCECE', 'HTETS', 'WELOU', 'ELFTD', 'NIBRD', 'BLSDS', 'WVMME', 'NOCHC', 'ULMEA', 'EEUSO', 'EDHNT', 'EGFWE', 'SEUTM', 'XRELH', 'EEKTG', 'RGDEE', 'SIOBC', 'TEIDE', 'HCTCA', 'EKIPC', 'FPAEK', 'ESSEO', 'RQEEC', 'ROOAA', 'PARWT', 'MATII', 'TLSTO', 'TCAPD', 'RALOP', 'WKCNO', 'MSTHH', 'CPATH', 'UCTET', 'NJKYI', 'AENNT', 'ASERD', 'LYTAO', 'AERSY', 'MGEAL', 'EVORL', 'RTLGO', 'IESMS', 'AEASZ', 'RTTIF', 'ANDLN', 'PNCLO', 'SVRHE', 'WPUEQ', 'EEESD', 'SDAYC', 'ARLEI', 'TGEFG', 'RSSAS', 'WNENI', 'NRERD', 'SRTEO', 'YPMOW', 'BSHDH', 'REGDA', 'YLUSE', 'AALFS', 'RIENO', 'SSSSH', 'IHOLS', 'THODR', 'CTRGN', 'NAMMI', 'IAYTH', 'FETNS', 'DREMA', 'UOTED', 'THOLR', 'VYETH', 'SSULI', 'LLNCS', 'TLEPM', 'NDPIH', 'ELVAR', 'BCAOO', 'TNASM', 'ONEAE', 'NNAHN', 'NOISE', 'NHOTT', 'EALUO', 'LFWER', 'NFTMO', 'NSFGS', 'TGASE', 'NAIOG', 'SMUIH', 'OTHNT', 'HOIYH', 'HTULT', 'GITSN', 'HTAOR', 'TOFBR', 'NENOD', 'TYYPC', 'AGOOH', 'KEAOE', 'WMOPY', 'VREEU', 'IMCTD', 'ISOIO', 'OETDI', 'HOUNL', 'LANFO', 'SOMTV', 'KNLTR', 'RNTEC', 'TSSNN', 'OHGLI', 'SAAEE', 'IEWCD', 'REIEE', 'WILEO', 'AMEHS', 'QTONS', 'FEKON', 'EELHS', 'EBTCR', 'CAKSC', 'DOEHR', 'TACDE', 'OBTEI', 'EYOTI', 'BMNET', 'IOEGT', 'NINBP', 'IXISI', 'HQELD', 'LEHUT', 'LTVGT', 'FUEIB', 'MVAES', 'DVHEL', 'EOCEV', 'ATINC', 'RELSR', 'FRGLA', 'CERMO', 'RGHTE', 'ISPHA', 'RNRFT', 'EEUUI', 'UTTKL', 'RMTSH', 'UNITT', 'TOITW', 'MROFT', 'OCSAA', 'NEEEC', 'YMROK', 'DTOEO', 'ESTEI', 'UHEFN', 'OYUOR', 'CHINQ', 'EMMEI', 'INDDS', 'HATTS', 'POELI', 'SDNII', 'LFOPT', 'TDTBB', 'LENAI', 'IUORT', 'EOESI', 'OHEET', 'EACRE', 'NVARH', 'TEIMI', 'SBLWL', 'HNRSN', 'KONBI', 'TNKSI', 'REAYN', 'ANNNA', 'ELPSU', 'UNPWE', 'RLEOT', 'DWNKU', 'ATKEF', 'NEEND', 'TNTNL', 'TGITE', 'TIIDD', 'TEFHD', 'SCSRE', 'FTEYE', 'ITEHE', 'CRWTC', 'THMON', 'ZFRRN', 'NENCS', 'ULACA', 'SDQNR', 'CHSSC', 'THNON', 'TGRPT', 'TSANT', 'EHLPL', 'CBNRE', 'BDRTH', 'TTVEB', 'GWNCO', 'OOADA', 'VEMGS', 'AOTMU', 'TLSTU', 'GMHLT', 'GSYYR', 'ALWFE', 'NTRAR', 'USERA', 'ERAET', 'CTESP', 'DHSII', 'ANBEU', 'WEAGT', 'UETSC', 'IAALP', 'TTVSI', 'ENPBA', 'OYTLS', 'FREOR', 'ONPUE', 'EOTIT', 'EHNVL', 'OROZD', 'DCSTT', 'ORSUM', 'MEPOL', 'RWNTT', 'PWTIO', 'TIFSO', 'TETNS', 'TNADH', 'OMSBB', 'EEHNS', 'FOLWO', 'PACMS', 'YBDNH', 'ELONS', 'DHMER', 'MHSKT', 'CEUHL', 'TEKIT', 'EIRTE', 'SUINO', 'EDBLW', 'ODOEO', 'SISEA', 'AHIAO', 'AYDRA', 'EARTG', 'ENHEE', 'MLRND', 'KUOAO', 'ELRTE', 'HLOIE', 'CAMYL', 'EKIPE', 'AAOEE', 'NFCEN', 'AEOLE', 'THESN', 'OXRGR', 'ALLTE', 'BMMHT', 'IROFI', 'OITIA', 'OCSLS', 'ATITN', 'FSASE', 'BCTRR', 'EHTTC', 'NNEHS', 'RATFI', 'ARESA', 'AGEWO', 'FDCPO', 'RSWFY', 'LBIFS', 'EHGIE', 'CSTHE', 'EGAFE', 'OANYR', 'HTAOA', 'REVEH', 'VRHST', 'NRSCE', 'MFCAC', 'ANHSW', 'UHETI', 'IIMFU', 'LASRM', 'SECDF', 'ULTTL', 'ITREE', 'AMWPU', 'RNTTC', 'INRUH', 'URBCO', 'TMRHV', 'RDAHI', 'ATYNE', 'UDYDY', 'SITOL', 'ENLAU', 'RGEAN', 'HTREE', 'IRAIS', 'FAHIF', 'PSNAN', 'ORODH', 'ENSTT', 'UISTS', 'HTMNA', 'IPSEE', 'SIOFA', 'HALUA', 'RTTNN', 'INHRR', 'EAWAO', 'IHCVY', 'RTTCT', 'OGEEC', 'ZSOHO', 'FRFOO', 'SSGTU', 'GAAEN', 'LIETR', 'ATCIE', 'GLNRT', 'DTELE', 'EEHUC', 'RNSEI', 'ECRLC', 'SADRD', 'AHIEI', 'EASTN', 'OOEOA', 'BLADH', 'TLPEH', 'COTDI', 'ORIWS', 'EIPTO', 'EIMAR', 'YOENN', 'USAAH', 'CATCY', 'INEDC', 'EOSSE', 'AUIZT', 'SEDGI', 'HBOSM', 'REETJ', 'UYMAO', 'YTEBE', 'TLMNN', 'NANVE', 'EIHNI', 'GSBAE', 'REERP', 'NTUSI', 'ETBHR', 'NDUHS', 'LHHNO', 'TIHDI', 'PEIPE', 'LOGFI', 'RMOFN', 'TVIOI', 'WNODQ', 'TOEAC', 'BTNKB', 'UBFYR', 'IAIKE', 'ENVFI', 'NBNCT', 'LNTAN', 'RHORS', 'EENTN', 'MPSIE', 'NRCTE', 'PGHNB', 'NDFAU', 'UNWEU', 'ENJTS', 'IHTUS', 'SOONO', 'HTIGL', 'EUESF', 'AIOOO', 'IRHTR', 'TDAEU', 'SSTBY', 'EUYSL', 'OKFYE', 'IEIHN', 'ROSJF', 'TBASK', 'TLOSO', 'OAESN', 'HUGID', 'SRTPE', 'OSEBU', 'RIEEA', 'NSOEH', 'PENOC', 'INNHI', 'HLOTM', 'EESMK', 'TBRIY', 'EYALE', 'OORIL', 'OERET', 'OSEIT', 'ATLWI', 'IILFB', 'UCHFP', 'EAEUF', 'ROYOS', 'TPFIA', 'LNEAN', 'VKMGD', 'LWEST', 'GUACA', 'HTHFE', 'FNAJR', 'MNNTD', 'DEUAI', 'WSACA', 'UDAJN', 'EWHST', 'STRRR', 'AEIGW', 'AATNB', 'MMDHS', 'INIED', 'UGLAO', 'IUTES', 'LOCOT', 'EAOEA', 'EWASS', 'ASIES', 'EADNT', 'SITNH', 'OPSYE', 'OHTBA', 'OAFET', 'AWEEH', 'LACSN', 'ACRIT', 'GVNON', 'CSTTH', 'OEWSU', 'MTTRA', 'HPIDR', 'FEYES', 'TUEOS', 'NETSN', 'EEMRM', 'ONATG', 'NHATI', 'DSIEI', 'NIWNS', 'TEBOI', 'IROOB', 'UFISA', 'DTNLM', 'OUELG', 'EABIW', 'VNAOT', 'NRSIM', 'IUYSI', 'KATIH', 'AHETR', 'TTHOO', 'IUSYE', 'WAHSN', 'FFOAA', 'ROELR', 'LAHYO', 'WEHSJ', 'GIOHN', 'OHUKI', 'LTGSE', 'NATON', 'NHTEH', 'ONEEO', 'NRRLC', 'SSETI', 'EIHOR', 'DDAWF', 'OSEAD', 'BOCTS', 'EEDBC', 'OANDL', 'SAORE', 'SUSMI', 'IRVLC', 'OLAUN', 'SAITW', 'WPFUL', 'COEJU', 'LNIIN', 'IOALE', 'YCDHA', 'USNTB', 'AIAHO', 'TSCHP', 'RLHUO', 'GITTB', 'TNGSE', 'ODALE', 'EAPTG', 'RTHDO', 'DHTAS', 'ERTNP', 'MPIMA', 'IDEUE', 'ODTMH'}\n",
      "Using 4 dice produces more English words.\n"
     ]
    }
   ],
   "source": [
    "game_letter_dice_5 = Game([alphabet_die, alphabet_die, alphabet_die, alphabet_die, alphabet_die])\n",
    "game_letter_dice_5.play(1000)\n",
    "\n",
    "distinct_permutations_5 = set(''.join(row) for _, row in game_letter_dice_5.show_results().iterrows())\n",
    "english_words_count_5 = len(distinct_permutations_5.intersection(scrabble_words))\n",
    "print(english_words_count_5)\n",
    "print(distinct_permutations_5)\n",
    "\n",
    "# Compare word counts\n",
    "if english_words_count > english_words_count_5:\n",
    "    print(\"Using 4 dice produces more English words.\")\n",
    "elif english_words_count < english_words_count_5:\n",
    "    print(\"Using 5 dice produces more English words.\")\n",
    "else:\n",
    "    print(\"Both scenarios produce the same number of English words.\")"
   ]
  },
  {
   "cell_type": "markdown",
   "metadata": {},
   "source": [
    "# Submission"
   ]
  },
  {
   "cell_type": "markdown",
   "metadata": {},
   "source": [
    "When finished completing the above tasks, save this file to your local repo (and within your project), and them push it to your GitHub repo.\n",
    "\n",
    "Then convert this file to a PDF and submit it to GradeScope according to the assignment instructions in Canvas."
   ]
  }
 ],
 "metadata": {
  "kernelspec": {
   "display_name": "Python 3",
   "language": "python",
   "name": "python3"
  },
  "language_info": {
   "codemirror_mode": {
    "name": "ipython",
    "version": 3
   },
   "file_extension": ".py",
   "mimetype": "text/x-python",
   "name": "python",
   "nbconvert_exporter": "python",
   "pygments_lexer": "ipython3",
   "version": "3.8.8"
  },
  "toc-autonumbering": true,
  "widgets": {
   "application/vnd.jupyter.widget-state+json": {
    "state": {},
    "version_major": 2,
    "version_minor": 0
   }
  }
 },
 "nbformat": 4,
 "nbformat_minor": 5
}
