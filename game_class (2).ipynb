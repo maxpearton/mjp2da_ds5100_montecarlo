{
 "cells": [
  {
   "cell_type": "code",
   "execution_count": null,
   "metadata": {},
   "outputs": [],
   "source": [
    "# montecarlo/montecarlo.py\n",
    "import pandas as pd\n",
    "from typing import List\n",
    "\n",
    "class Game:\n",
    "    \"\"\"\n",
    "    Game class for simulating the rolling of multiple similar dice.\n",
    "\n",
    "    Attributes:\n",
    "    - dice (List[Die]): List of Die objects representing the dice in the game.\n",
    "    - play_results (pd.DataFrame): DataFrame to store results of the most recent play.\n",
    "\n",
    "    Methods:\n",
    "    - __init__(dice: List[Die]): Initializes a Game object with a list of similar dice.\n",
    "    - play(times: int): Rolls all dice a specified number of times and saves results.\n",
    "    - show_results(format: str = 'wide') -> pd.DataFrame: Returns a copy of the play results.\n",
    "    \"\"\"\n",
    "    def __init__(self, dice: List[Die]):\n",
    "        self.dice = dice\n",
    "        self.play_results = None\n",
    "\n",
    "    def play(self, times: int):\n",
    "        outcomes = {f'Die_{i+1}': die.roll(times) for i, die in enumerate(self.dice)}\n",
    "        self.play_results = pd.DataFrame(outcomes)\n",
    "\n",
    "    def show_results(self, format: str = 'wide') -> pd.DataFrame:\n",
    "        if format == 'wide':\n",
    "            return self.play_results.copy()\n",
    "        elif format == 'narrow':\n",
    "            return pd.melt(self.play_results, var_name='Die', value_name='Outcome')\n",
    "        else:\n",
    "            raise ValueError(\"Invalid format. Use 'wide' or 'narrow'.\")\n"
   ]
  }
 ],
 "metadata": {
  "kernelspec": {
   "display_name": "Python 3",
   "language": "python",
   "name": "python3"
  },
  "language_info": {
   "codemirror_mode": {
    "name": "ipython",
    "version": 3
   },
   "file_extension": ".py",
   "mimetype": "text/x-python",
   "name": "python",
   "nbconvert_exporter": "python",
   "pygments_lexer": "ipython3",
   "version": "3.8.8"
  }
 },
 "nbformat": 4,
 "nbformat_minor": 4
}
